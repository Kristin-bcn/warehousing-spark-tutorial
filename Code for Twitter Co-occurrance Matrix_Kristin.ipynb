{
 "cells": [
  {
   "cell_type": "code",
   "execution_count": null,
   "metadata": {},
   "outputs": [],
   "source": [
    "from itertools import permutations\n",
    "from pyspark.sql import SparkSession\n",
    "from scipy.sparse import coo_matrix, save_npz\n",
    "from datetime import datetime\n",
    "\n",
    "spark = SparkSession \\\n",
    "    .builder \\\n",
    "    .appName(\"PySpark Intro\") \\\n",
    "    .getOrCreate()\n",
    "\n",
    "start_time = datetime.now()"
   ]
  },
  {
   "cell_type": "code",
   "execution_count": null,
   "metadata": {},
   "outputs": [],
   "source": [
    "tweets = spark.read.options(samplingRatio=.01).json('gs://bgse-datawarehousing-random-tweets')"
   ]
  },
  {
   "cell_type": "code",
   "execution_count": null,
   "metadata": {},
   "outputs": [],
   "source": [
    "#Extract the hashtags from the tweets\n",
    "#Filter for the entities that are not None\n",
    "#Filter for the hastags that are greater than 1\n",
    "#Extract the hashtag text from the tuple\n",
    "\n",
    "list_hashtags = tweets.rdd.map(lambda e: e.entities) \\\n",
    "    .filter(lambda e: e is not None).map(lambda t: t.hashtags)\\\n",
    "    .filter(lambda t: len(t) > 1) \\\n",
    "    .map(lambda t: [i[1] for i in t]).cache()"
   ]
  },
  {
   "cell_type": "code",
   "execution_count": null,
   "metadata": {},
   "outputs": [],
   "source": [
    "#Generate a list with the count of all hashtag pairs \n",
    "\n",
    "from itertools import permutations\n",
    "\n",
    "count_hashtags = list_hashtags.map(lambda x: list(permutations(x,2))) \\\n",
    "    .flatMap(lambda x: (x)) \\\n",
    "    .map(lambda x: (x,1)) \\\n",
    "    .reduceByKey(lambda x,y: x+y) \\\n",
    "    .collect()"
   ]
  },
  {
   "cell_type": "code",
   "execution_count": null,
   "metadata": {},
   "outputs": [],
   "source": [
    "# Create a dictionary with an index number for each unique hashtag\n",
    "list_reduced = map(lambda x: [x[0][0], x[0][1],x[1]], count_hashtags)\n",
    "list_pairs = map(lambda x: [x[0], x[1]], list_reduced)\n",
    "unique_hashtags = set(reduce(lambda x,y: x+y, list_pairs))\n",
    "dict_hashtags = {key: value for value, key in enumerate(set(unique_hashtags),start = 0)}"
   ]
  },
  {
   "cell_type": "code",
   "execution_count": null,
   "metadata": {},
   "outputs": [],
   "source": [
    "# Create the inputs for the COO matrix function\n",
    "#row_index - contains the row index number associated with each of the hashtags\n",
    "#column_index - contains the column index number associated with each of the hashtags\n",
    "#count - contains the count of all the hashtag pairs\n",
    "\n",
    "\n",
    "list_1 = map(lambda x: x[0], list_reduced)\n",
    "list_2 = map(lambda x: x[1], list_reduced)\n",
    "\n",
    "row_index = map(lambda x: dict_hashtags.get(x), list_1)\n",
    "column_index = map(lambda x: dict_hashtags.get(x), list_2)\n",
    "count = map(lambda x: x[2], list_reduced)\n"
   ]
  },
  {
   "cell_type": "code",
   "execution_count": null,
   "metadata": {},
   "outputs": [],
   "source": [
    "# coo_matrix((data, (i, j)), [shape=(M, N)])\n",
    "# to construct from three arrays:\n",
    "# data[:] the entries of the matrix, in any order\n",
    "# i[:] the row indices of the matrix entries\n",
    "# j[:] the column indices of the matrix entries\n",
    "\n",
    "matrix = coo_matrix(count, (row_index, column_index))"
   ]
  },
  {
   "cell_type": "code",
   "execution_count": null,
   "metadata": {},
   "outputs": [],
   "source": [
    "# creating and saving sparse matrix\n",
    "save_npz(\"sparse_matrix_big.npz\", matrix, compressed=True)\n",
    "\n",
    "#evaluating time performance\n",
    "end_time = datetime.now()\n",
    "print(\"Process start time: \" +str(start_time))\n",
    "print(\"Process end time: \" + str(end_time))\n",
    "print(\"Total run time: \" + str(end_time - start_time))"
   ]
  }
 ],
 "metadata": {
  "kernelspec": {
   "display_name": "Python 3",
   "language": "python",
   "name": "python3"
  },
  "language_info": {
   "codemirror_mode": {
    "name": "ipython",
    "version": 3
   },
   "file_extension": ".py",
   "mimetype": "text/x-python",
   "name": "python",
   "nbconvert_exporter": "python",
   "pygments_lexer": "ipython3",
   "version": "3.7.3"
  }
 },
 "nbformat": 4,
 "nbformat_minor": 2
}
